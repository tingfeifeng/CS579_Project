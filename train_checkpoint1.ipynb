{
 "cells": [
  {
   "cell_type": "code",
   "execution_count": 2,
   "metadata": {},
   "outputs": [
    {
     "name": "stdout",
     "output_type": "stream",
     "text": [
      "Using device: cuda\n"
     ]
    }
   ],
   "source": [
    "import torch\n",
    "import torch.nn as nn\n",
    "import torch.optim as optim\n",
    "from sklearn.model_selection import train_test_split\n",
    "from sklearn.utils import resample\n",
    "from sklearn.preprocessing import StandardScaler\n",
    "import math\n",
    "import pandas as pd\n",
    "import re\n",
    "from tqdm import tqdm\n",
    "\n",
    "device = torch.device(\"cuda\" if torch.cuda.is_available() else \"cpu\")\n",
    "print(f\"Using device: {device}\")"
   ]
  },
  {
   "cell_type": "code",
   "execution_count": 3,
   "metadata": {},
   "outputs": [
    {
     "data": {
      "text/html": [
       "<div>\n",
       "<style scoped>\n",
       "    .dataframe tbody tr th:only-of-type {\n",
       "        vertical-align: middle;\n",
       "    }\n",
       "\n",
       "    .dataframe tbody tr th {\n",
       "        vertical-align: top;\n",
       "    }\n",
       "\n",
       "    .dataframe thead th {\n",
       "        text-align: right;\n",
       "    }\n",
       "</style>\n",
       "<table border=\"1\" class=\"dataframe\">\n",
       "  <thead>\n",
       "    <tr style=\"text-align: right;\">\n",
       "      <th></th>\n",
       "      <th>No.</th>\n",
       "      <th>Time</th>\n",
       "      <th>Length</th>\n",
       "      <th>Source_Port</th>\n",
       "      <th>Destination_Port</th>\n",
       "      <th>Seq</th>\n",
       "      <th>Ack</th>\n",
       "      <th>Win</th>\n",
       "      <th>Len</th>\n",
       "      <th>Label</th>\n",
       "      <th>Protocol_TCP</th>\n",
       "      <th>Protocol_TCP, HiPerConTracer</th>\n",
       "    </tr>\n",
       "  </thead>\n",
       "  <tbody>\n",
       "    <tr>\n",
       "      <th>0</th>\n",
       "      <td>2.0</td>\n",
       "      <td>0.000006</td>\n",
       "      <td>56.0</td>\n",
       "      <td>9809</td>\n",
       "      <td>41918</td>\n",
       "      <td>1</td>\n",
       "      <td>1</td>\n",
       "      <td>0</td>\n",
       "      <td>0</td>\n",
       "      <td>False</td>\n",
       "      <td>1</td>\n",
       "      <td>0</td>\n",
       "    </tr>\n",
       "    <tr>\n",
       "      <th>1</th>\n",
       "      <td>7.0</td>\n",
       "      <td>0.049032</td>\n",
       "      <td>68.0</td>\n",
       "      <td>44478</td>\n",
       "      <td>443</td>\n",
       "      <td>1</td>\n",
       "      <td>5481</td>\n",
       "      <td>766</td>\n",
       "      <td>0</td>\n",
       "      <td>False</td>\n",
       "      <td>1</td>\n",
       "      <td>0</td>\n",
       "    </tr>\n",
       "    <tr>\n",
       "      <th>2</th>\n",
       "      <td>8.0</td>\n",
       "      <td>0.049062</td>\n",
       "      <td>68.0</td>\n",
       "      <td>44478</td>\n",
       "      <td>443</td>\n",
       "      <td>1</td>\n",
       "      <td>8221</td>\n",
       "      <td>809</td>\n",
       "      <td>0</td>\n",
       "      <td>False</td>\n",
       "      <td>1</td>\n",
       "      <td>0</td>\n",
       "    </tr>\n",
       "    <tr>\n",
       "      <th>3</th>\n",
       "      <td>14.0</td>\n",
       "      <td>0.049135</td>\n",
       "      <td>2808.0</td>\n",
       "      <td>44478</td>\n",
       "      <td>443</td>\n",
       "      <td>1</td>\n",
       "      <td>13701</td>\n",
       "      <td>809</td>\n",
       "      <td>0</td>\n",
       "      <td>False</td>\n",
       "      <td>1</td>\n",
       "      <td>0</td>\n",
       "    </tr>\n",
       "    <tr>\n",
       "      <th>4</th>\n",
       "      <td>20.0</td>\n",
       "      <td>0.049160</td>\n",
       "      <td>2808.0</td>\n",
       "      <td>44478</td>\n",
       "      <td>443</td>\n",
       "      <td>1</td>\n",
       "      <td>40330</td>\n",
       "      <td>679</td>\n",
       "      <td>0</td>\n",
       "      <td>False</td>\n",
       "      <td>1</td>\n",
       "      <td>0</td>\n",
       "    </tr>\n",
       "  </tbody>\n",
       "</table>\n",
       "</div>"
      ],
      "text/plain": [
       "    No.      Time  Length  Source_Port  Destination_Port  Seq    Ack  Win  \\\n",
       "0   2.0  0.000006    56.0         9809             41918    1      1    0   \n",
       "1   7.0  0.049032    68.0        44478               443    1   5481  766   \n",
       "2   8.0  0.049062    68.0        44478               443    1   8221  809   \n",
       "3  14.0  0.049135  2808.0        44478               443    1  13701  809   \n",
       "4  20.0  0.049160  2808.0        44478               443    1  40330  679   \n",
       "\n",
       "   Len  Label  Protocol_TCP  Protocol_TCP, HiPerConTracer  \n",
       "0    0  False             1                             0  \n",
       "1    0  False             1                             0  \n",
       "2    0  False             1                             0  \n",
       "3    0  False             1                             0  \n",
       "4    0  False             1                             0  "
      ]
     },
     "execution_count": 3,
     "metadata": {},
     "output_type": "execute_result"
    }
   ],
   "source": [
    "data = pd.read_csv('H:\\geph_package_data\\wireshark_encoded.csv')\n",
    "data.head()"
   ]
  },
  {
   "cell_type": "code",
   "execution_count": 4,
   "metadata": {},
   "outputs": [],
   "source": [
    "X = data.drop(columns=['Label']).values\n",
    "y = data['Label'].values\n",
    "\n",
    "# Standardize the features\n",
    "scaler = StandardScaler()\n",
    "X = scaler.fit_transform(X)\n",
    "\n",
    "# Convert labels to integers if necessary\n",
    "y = y.astype(int)\n",
    "\n",
    "# Split into training and testing datasets\n",
    "X_train, X_test, y_train, y_test = train_test_split(X, y, test_size=0.2, random_state=42)\n",
    "\n",
    "train_data = pd.concat([pd.DataFrame(X), pd.Series(y, name='Label')], axis=1)\n",
    "\n",
    "# Separate majority and minority classes in the training set\n",
    "majority = train_data[train_data['Label'] == 0]\n",
    "minority = train_data[train_data['Label'] == 1]\n",
    "\n",
    "# Downsample the majority class\n",
    "majority_downsampled = resample(majority,\n",
    "                                replace=False,     # Sample without replacement\n",
    "                                n_samples=len(minority),  # Match the minority class size\n",
    "                                random_state=42)  # Seed for reproducibility\n",
    "\n",
    "# Combine the downsampled majority class with the minority class\n",
    "train_data_balanced = pd.concat([majority_downsampled, minority])\n",
    "\n",
    "# Shuffle the balanced training set\n",
    "train_data_balanced = train_data_balanced.sample(frac=1, random_state=42)\n",
    "\n",
    "# Separate features and labels\n",
    "X_train_balanced = train_data_balanced.drop(columns=['Label']).values\n",
    "y_train_balanced = train_data_balanced['Label'].values\n",
    "\n",
    "# Convert balanced training data to PyTorch tensors\n",
    "X_train = torch.tensor(X_train_balanced, dtype=torch.float32)\n",
    "y_train = torch.tensor(y_train_balanced, dtype=torch.float32)\n",
    "# X_train = torch.tensor(X_train, dtype=torch.float32)\n",
    "# y_train = torch.tensor(y_train, dtype=torch.float32)\n",
    "# Test set (unchanged)\n",
    "X_test = torch.tensor(X_test, dtype=torch.float32)\n",
    "y_test = torch.tensor(y_test, dtype=torch.float32)"
   ]
  },
  {
   "cell_type": "code",
   "execution_count": 5,
   "metadata": {},
   "outputs": [],
   "source": [
    "# import pandas as pd\n",
    "# from sklearn.model_selection import train_test_split\n",
    "# from sklearn.utils import resample\n",
    "\n",
    "\n",
    "# # Separate the majority and minority classes\n",
    "# majority = data[data['Label'] == 0]\n",
    "# minority = data[data['Label'] == 1]\n",
    "\n",
    "# # Downsample the majority class\n",
    "# majority_downsampled = resample(majority,\n",
    "#                                 replace=False,     # Sample without replacement\n",
    "#                                 n_samples=len(minority),  # Match minority class size\n",
    "#                                 random_state=42)  # Seed for reproducibility\n",
    "\n",
    "# # Combine the downsampled majority class with the minority class\n",
    "# data_balanced = pd.concat([majority_downsampled, minority])\n",
    "\n",
    "# # Shuffle the dataset to mix the classes\n",
    "# data_balanced = data_balanced.sample(frac=1, random_state=42)\n",
    "\n",
    "# # Separate features and labels again\n",
    "# X_balanced = data_balanced.drop(columns=[\"Label\"]).values\n",
    "# y_balanced = data_balanced[\"Label\"].values\n",
    "\n",
    "# # Perform train-test split\n",
    "# X_train, X_test, y_train, y_test = train_test_split(X_balanced, y_balanced, test_size=0.2, random_state=42, stratify=y_balanced)\n",
    "\n",
    "# # Verify the class distribution\n",
    "# print(\"Training set class distribution:\")\n",
    "# print(pd.Series(y_train).value_counts())\n",
    "# print(\"Test set class distribution:\")\n",
    "# print(pd.Series(y_test).value_counts())\n",
    "# X_train = torch.tensor(X_train, dtype=torch.float32)\n",
    "# y_train = torch.tensor(y_train, dtype=torch.float32)\n",
    "# # Test set (unchanged)\n",
    "# X_test = torch.tensor(X_test, dtype=torch.float32)\n",
    "# y_test = torch.tensor(y_test, dtype=torch.float32)\n"
   ]
  },
  {
   "cell_type": "code",
   "execution_count": 6,
   "metadata": {},
   "outputs": [],
   "source": [
    "class WiresharkModel(nn.Module):\n",
    "    def __init__(self, input_size):\n",
    "        super(WiresharkModel, self).__init__()\n",
    "        self.fc1 = nn.Linear(input_size, 256)\n",
    "        self.fc2 = nn.Linear(256, 128)\n",
    "        self.fc3 = nn.Linear(128, 32)\n",
    "        self.fc4 = nn.Linear(32, 1)  # Output layer for binary classification\n",
    "        self.relu = nn.ReLU()\n",
    "        self.sigmoid = nn.Sigmoid()  # For binary output\n",
    "\n",
    "    def forward(self, x):\n",
    "        x = self.relu(self.fc1(x))\n",
    "        x = self.relu(self.fc2(x))\n",
    "        x = self.relu(self.fc3(x))\n",
    "        x = self.sigmoid(self.fc4(x))\n",
    "        return x\n"
   ]
  },
  {
   "cell_type": "code",
   "execution_count": 7,
   "metadata": {},
   "outputs": [],
   "source": [
    "import torch.nn as nn\n",
    "\n",
    "class FocalLoss(nn.Module):\n",
    "    def __init__(self, alpha=0.25, gamma=2):\n",
    "        \"\"\"\n",
    "        Focal Loss for binary classification\n",
    "        Args:\n",
    "            alpha (float): Weighting factor for the positive class.\n",
    "            gamma (float): Focusing parameter to reduce the relative loss for well-classified examples.\n",
    "        \"\"\"\n",
    "        super(FocalLoss, self).__init__()\n",
    "        self.alpha = alpha\n",
    "        self.gamma = gamma\n",
    "\n",
    "    def forward(self, inputs, targets):\n",
    "        \"\"\"\n",
    "        Compute Focal Loss\n",
    "        Args:\n",
    "            inputs (Tensor): Predicted probabilities (output of the model after sigmoid).\n",
    "            targets (Tensor): Ground truth labels (0 or 1).\n",
    "        Returns:\n",
    "            Tensor: Computed Focal Loss.\n",
    "        \"\"\"\n",
    "        bce_loss = nn.BCELoss(reduction='none')(inputs, targets)  # Binary cross-entropy loss\n",
    "        pt = torch.exp(-bce_loss)  # Probability of the correct class\n",
    "        focal_loss = self.alpha * (1 - pt) ** self.gamma * bce_loss  # Focal Loss formula\n",
    "        return focal_loss.mean()"
   ]
  },
  {
   "cell_type": "code",
   "execution_count": 7,
   "metadata": {},
   "outputs": [
    {
     "name": "stdout",
     "output_type": "stream",
     "text": [
      "Epoch [5/20], Loss: 0.0474\n",
      "Epoch [10/20], Loss: 0.0374\n",
      "Epoch [15/20], Loss: 0.0284\n",
      "Epoch [20/20], Loss: 0.0212\n"
     ]
    }
   ],
   "source": [
    "# # Model setup\n",
    "input_size = X_train.shape[1]\n",
    "model = WiresharkModel(input_size)\n",
    "model = model.to(device)\n",
    "X_train = X_train.to(device)\n",
    "y_train = y_train.to(device)\n",
    "X_test = X_test.to(device)\n",
    "y_test = y_test.to(device)\n",
    "# # Loss and optimizer\n",
    "# criterion = nn.BCELoss()  # Binary Cross-Entropy Loss\n",
    "optimizer = optim.Adam(model.parameters(), lr=0.001)\n",
    "\n",
    "# # Training loop\n",
    "# epochs = 20\n",
    "# for epoch in range(epochs):\n",
    "#     model.train()\n",
    "#     optimizer.zero_grad()\n",
    "\n",
    "#     # Forward pass\n",
    "#     outputs = model(X_train).squeeze()  # Squeeze to match y_train dimensions\n",
    "#     loss = criterion(outputs, y_train)\n",
    "    \n",
    "#     # Backward pass\n",
    "#     loss.backward()\n",
    "#     optimizer.step()\n",
    "\n",
    "#     # Print loss for the epoch\n",
    "#     if (epoch + 1) % 5 == 0:\n",
    "#         print(f\"Epoch [{epoch+1}/{epochs}], Loss: {loss.item():.4f}\")\n",
    "# Initialize Focal Loss\n",
    "criterion = FocalLoss(alpha=0.45, gamma=2.5)\n",
    "\n",
    "# Training loop\n",
    "epochs = 20\n",
    "for epoch in range(epochs):\n",
    "    model.train()\n",
    "    optimizer.zero_grad()\n",
    "\n",
    "    # Forward pass\n",
    "    outputs = model(X_train).squeeze()  # Squeeze to match y_train dimensions\n",
    "    loss = criterion(outputs, y_train)\n",
    "    \n",
    "    # Backward pass\n",
    "    loss.backward()\n",
    "    optimizer.step()\n",
    "\n",
    "    # Print loss for the epoch\n",
    "    if (epoch + 1) % 5 == 0:\n",
    "        print(f\"Epoch [{epoch+1}/{epochs}], Loss: {loss.item():.4f}\")\n"
   ]
  },
  {
   "cell_type": "code",
   "execution_count": 8,
   "metadata": {},
   "outputs": [
    {
     "name": "stdout",
     "output_type": "stream",
     "text": [
      "Test Accuracy: 0.9563\n"
     ]
    }
   ],
   "source": [
    "# Evaluation mode\n",
    "model.eval()\n",
    "with torch.no_grad():\n",
    "    predictions = model(X_test).squeeze()\n",
    "    predictions = (predictions > 0.8).float()  # Convert probabilities to binary outputs\n",
    "\n",
    "    # Calculate accuracy\n",
    "    accuracy = (predictions == y_test).sum().item() / len(y_test)\n",
    "    print(f\"Test Accuracy: {accuracy:.4f}\")\n"
   ]
  },
  {
   "cell_type": "code",
   "execution_count": 9,
   "metadata": {},
   "outputs": [
    {
     "name": "stdout",
     "output_type": "stream",
     "text": [
      "False Positive Rate: 0.00\n"
     ]
    }
   ],
   "source": [
    "model.eval()\n",
    "with torch.no_grad():\n",
    "    predictions = model(X_test).squeeze()\n",
    "    predictions_binary = (predictions > 0.8).int()  # Convert probabilities to binary predictions\n",
    "\n",
    "y_test_tensor = y_test.int()\n",
    "\n",
    "# Calculate False Negatives\n",
    "false_negatives = ((predictions_binary == 0) & (y_test_tensor == 1)).sum().item()\n",
    "\n",
    "false_positives = ((predictions_binary == 1) & (y_test_tensor == 0)).sum().item()\n",
    "\n",
    "# True Positives\n",
    "true_positives = ((predictions_binary == 1) & (y_test_tensor == 1)).sum().item()\n",
    "\n",
    "# True Negatives\n",
    "true_negatives = ((predictions_binary == 0) & (y_test_tensor == 0)).sum().item()\n",
    "\n",
    "false_positive_rate = false_positives / (false_positives + true_negatives)\n",
    "print(f\"False Positive Rate: {false_positive_rate:.2f}\")\n"
   ]
  },
  {
   "cell_type": "code",
   "execution_count": 11,
   "metadata": {},
   "outputs": [
    {
     "data": {
      "image/png": "[encoded data removed]",
      "text/plain": [
       "<Figure size 432x288 with 2 Axes>"
      ]
     },
     "metadata": {
      "needs_background": "light"
     },
     "output_type": "display_data"
    }
   ],
   "source": [
    "import matplotlib.pyplot as plt\n",
    "import seaborn as sns\n",
    "from sklearn.metrics import confusion_matrix\n",
    "\n",
    "y_test = y_test.cpu()\n",
    "predictions_binary = predictions_binary.cpu()\n",
    "# Compute the confusion matrix\n",
    "conf_matrix = confusion_matrix(y_test, predictions_binary)\n",
    "\n",
    "# Plot the confusion matrix as a heatmap\n",
    "plt.figure(figsize=(6, 4))\n",
    "sns.heatmap(conf_matrix, annot=True, fmt=\"d\", cmap=\"Blues\", \n",
    "            xticklabels=[\"Predicted Negative\", \"Predicted Positive\"], \n",
    "            yticklabels=[\"Actual Negative\", \"Actual Positive\"])\n",
    "\n",
    "# Add labels and title\n",
    "plt.title(\"Confusion Matrix\")\n",
    "plt.xlabel(\"Predicted\")\n",
    "plt.ylabel(\"Actual\")\n",
    "plt.savefig(\"confusion_matrix.png\", dpi=300, bbox_inches='tight')\n",
    "plt.show()\n"
   ]
  },
  {
   "cell_type": "code",
   "execution_count": 12,
   "metadata": {},
   "outputs": [],
   "source": [
    "torch.save({\n",
    "    \"epoch\": epoch,\n",
    "    \"model_state_dict\": model.state_dict(),\n",
    "    \"optimizer_state_dict\": optimizer.state_dict(),\n",
    "    \"loss\": loss,\n",
    "}, \"checkpoint.pth\")"
   ]
  },
  {
   "cell_type": "code",
   "execution_count": 10,
   "metadata": {},
   "outputs": [
    {
     "name": "stdout",
     "output_type": "stream",
     "text": [
      "Model and optimizer states loaded successfully! (Epoch: 19, Loss: 0.02123773656785488)\n"
     ]
    }
   ],
   "source": [
    "import torch\n",
    "\n",
    "# Load the checkpoint\n",
    "checkpoint = torch.load(\"checkpoint1.pth\")\n",
    "input_size = X_train.shape[1]\n",
    "# Example model and optimizer definitions (must match the saved model)\n",
    "model = WiresharkModel(input_size)  # Replace with your model class\n",
    "optimizer = torch.optim.Adam(model.parameters(), lr=0.001)  # Replace with your optimizer\n",
    "\n",
    "# Load the model and optimizer state dicts\n",
    "model.load_state_dict(checkpoint[\"model_state_dict\"])\n",
    "optimizer.load_state_dict(checkpoint[\"optimizer_state_dict\"])\n",
    "\n",
    "# Load additional metadata if available\n",
    "epoch = checkpoint.get(\"epoch\", None)\n",
    "loss = checkpoint.get(\"loss\", None)\n",
    "\n",
    "# Set the model to evaluation or training mode\n",
    "model.eval()  # For evaluation\n",
    "# model.train()  # For resuming training\n",
    "\n",
    "print(f\"Model and optimizer states loaded successfully! (Epoch: {epoch}, Loss: {loss})\")\n"
   ]
  },
  {
   "cell_type": "code",
   "execution_count": 12,
   "metadata": {},
   "outputs": [
    {
     "name": "stdout",
     "output_type": "stream",
     "text": [
      "False Positive Rate: 0.00\n"
     ]
    }
   ],
   "source": [
    "model.eval()\n",
    "with torch.no_grad():\n",
    "    predictions = model(X_test).squeeze()\n",
    "    predictions_binary = (predictions > 0.8).int()  # Convert probabilities to binary predictions\n",
    "\n",
    "y_test_tensor = y_test.int()\n",
    "\n",
    "# Calculate False Negatives\n",
    "false_negatives = ((predictions_binary == 0) & (y_test_tensor == 1)).sum().item()\n",
    "\n",
    "false_positives = ((predictions_binary == 1) & (y_test_tensor == 0)).sum().item()\n",
    "\n",
    "# True Positives\n",
    "true_positives = ((predictions_binary == 1) & (y_test_tensor == 1)).sum().item()\n",
    "\n",
    "# True Negatives\n",
    "true_negatives = ((predictions_binary == 0) & (y_test_tensor == 0)).sum().item()\n",
    "\n",
    "false_positive_rate = false_positives / (false_positives + true_negatives)\n",
    "print(f\"False Positive Rate: {false_positive_rate:.2f}\")\n"
   ]
  },
  {
   "cell_type": "code",
   "execution_count": 13,
   "metadata": {},
   "outputs": [
    {
     "data": {
      "image/png": "[encoded data removed]",
      "text/plain": [
       "<Figure size 432x288 with 2 Axes>"
      ]
     },
     "metadata": {
      "needs_background": "light"
     },
     "output_type": "display_data"
    }
   ],
   "source": [
    "import matplotlib.pyplot as plt\n",
    "import seaborn as sns\n",
    "from sklearn.metrics import confusion_matrix\n",
    "\n",
    "y_test = y_test.cpu()\n",
    "predictions_binary = predictions_binary.cpu()\n",
    "# Compute the confusion matrix\n",
    "conf_matrix = confusion_matrix(y_test, predictions_binary)\n",
    "\n",
    "# Plot the confusion matrix as a heatmap\n",
    "plt.figure(figsize=(6, 4))\n",
    "sns.heatmap(conf_matrix, annot=True, fmt=\"d\", cmap=\"Blues\", \n",
    "            xticklabels=[\"Predicted Negative\", \"Predicted Positive\"], \n",
    "            yticklabels=[\"Actual Negative\", \"Actual Positive\"])\n",
    "\n",
    "# Add labels and title\n",
    "plt.title(\"Confusion Matrix\")\n",
    "plt.xlabel(\"Predicted\")\n",
    "plt.ylabel(\"Actual\")\n",
    "plt.savefig(\"confusion_matrix.png\", dpi=300, bbox_inches='tight')\n",
    "plt.show()\n"
   ]
  },
  {
   "cell_type": "code",
   "execution_count": null,
   "metadata": {},
   "outputs": [],
   "source": []
  }
 ],
 "metadata": {
  "kernelspec": {
   "display_name": "pytorch",
   "language": "python",
   "name": "python3"
  },
  "language_info": {
   "codemirror_mode": {
    "name": "ipython",
    "version": 3
   },
   "file_extension": ".py",
   "mimetype": "text/x-python",
   "name": "python",
   "nbconvert_exporter": "python",
   "pygments_lexer": "ipython3",
   "version": "3.9.12"
  }
 },
 "nbformat": 4,
 "nbformat_minor": 2
}
